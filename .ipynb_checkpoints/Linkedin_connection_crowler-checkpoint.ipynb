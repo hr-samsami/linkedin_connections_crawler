{
 "cells": [
  {
   "cell_type": "markdown",
   "id": "3d85fa8c",
   "metadata": {},
   "source": [
    "# Import Libraries"
   ]
  },
  {
   "cell_type": "code",
   "execution_count": 51,
   "id": "3bdb7bb3",
   "metadata": {},
   "outputs": [],
   "source": [
    "from selenium import webdriver \n",
    "from bs4 import BeautifulSoup\n",
    "from time import sleep\n",
    "import sqlite3\n",
    "from sqlite3 import Error"
   ]
  },
  {
   "cell_type": "markdown",
   "id": "1bf104ee",
   "metadata": {},
   "source": [
    "# SQLite Functions"
   ]
  },
  {
   "cell_type": "code",
   "execution_count": 52,
   "id": "5dd7c132",
   "metadata": {},
   "outputs": [],
   "source": [
    "def create_connection(db_file):\n",
    "    conn = None\n",
    "    try:\n",
    "        conn = sqlite3.connect(db_file)\n",
    "        return conn\n",
    "    except Error as e:\n",
    "        print(e)"
   ]
  },
  {
   "cell_type": "code",
   "execution_count": 53,
   "id": "0cdbe6b4",
   "metadata": {},
   "outputs": [],
   "source": [
    "def create_table(conn, create_table_sql):\n",
    "    try:\n",
    "        c = conn.cursor()\n",
    "        c.execute(create_table_sql)\n",
    "    except Error as e:\n",
    "        print(e)"
   ]
  },
  {
   "cell_type": "code",
   "execution_count": 54,
   "id": "14b7d4a3",
   "metadata": {},
   "outputs": [],
   "source": [
    "def create_linkedin_profiles_table(conn):\n",
    "    sql_create_linkedin_profiles_table = \"\"\" CREATE TABLE IF NOT EXISTS linkedin_profiles (\n",
    "                                        id integer PRIMARY KEY,\n",
    "                                        name text NOT NULL,\n",
    "                                        headline text\n",
    "                                    ); \"\"\"\n",
    "    if conn is not None:\n",
    "        create_table(conn, sql_create_linkedin_profiles_table)\n",
    "\n",
    "    else:\n",
    "        print(\"Error! cannot create the database connection.\")"
   ]
  },
  {
   "cell_type": "code",
   "execution_count": 55,
   "id": "06902ac3",
   "metadata": {},
   "outputs": [],
   "source": [
    "def insert_linkedin_profile(conn, profile):\n",
    "    sql = ''' INSERT INTO linkedin_profiles(name,headline)\n",
    "              VALUES(?,?) '''\n",
    "    cur = conn.cursor()\n",
    "    cur.execute(sql, profile)\n",
    "    conn.commit()\n",
    "    return cur.lastrowid"
   ]
  },
  {
   "cell_type": "code",
   "execution_count": 56,
   "id": "a11a28c8",
   "metadata": {},
   "outputs": [],
   "source": [
    "def close_connection(conn):\n",
    "    conn.close()"
   ]
  },
  {
   "cell_type": "markdown",
   "id": "d362e926",
   "metadata": {},
   "source": [
    "# Set Settings And Variables"
   ]
  },
  {
   "cell_type": "code",
   "execution_count": 57,
   "id": "c7e47391",
   "metadata": {},
   "outputs": [],
   "source": [
    "PATH = \"C:\\\\Program Files (x86)\\\\chromedriver.exe\" \n",
    "driver = webdriver.Chrome(PATH) \n",
    "profile_counter = 1\n",
    "conn = create_connection(r\"C:\\Users\\root\\Desktop\\pythonsqlite.db\")\n",
    "create_linkedin_profiles_table(conn)"
   ]
  },
  {
   "cell_type": "markdown",
   "id": "1e7ae6ad",
   "metadata": {},
   "source": [
    "# Logfile"
   ]
  },
  {
   "cell_type": "code",
   "execution_count": 58,
   "id": "9cc8f258",
   "metadata": {},
   "outputs": [],
   "source": [
    "def open_logfile(path):\n",
    "    return open(path,'a',encoding='utf-8')\n",
    "\n",
    "def insert_to_logfile(file,id,profile):\n",
    "    file.write(f\"{id},\\\"{profile[0]}\\\",\\\"{profile[1]}\\\"\\n\")\n",
    "    profile_counter += 1\n",
    "        \n",
    "def close_logfile(file):\n",
    "    file.close()"
   ]
  },
  {
   "cell_type": "markdown",
   "id": "5427ab1a",
   "metadata": {},
   "source": [
    "# Linkedin Functions"
   ]
  },
  {
   "cell_type": "code",
   "execution_count": 59,
   "id": "f92f44a5",
   "metadata": {},
   "outputs": [],
   "source": [
    "def login_to_linkedin():\n",
    "    driver.get(\"https://www.linkedin.com\")\n",
    "    driver.implicitly_wait(10)\n",
    "    username = driver.find_element_by_class_name('input__input')\n",
    "    username.send_keys('hamidreza.samsami@gmail.com')\n",
    "    password = driver.find_element_by_id('session_password')\n",
    "    password.send_keys('1qaz!QAZ') \n",
    "    log_in_button = driver.find_element_by_class_name('sign-in-form__submit-button') \n",
    "    log_in_button.click()"
   ]
  },
  {
   "cell_type": "code",
   "execution_count": 60,
   "id": "d4f05191",
   "metadata": {},
   "outputs": [],
   "source": [
    "def parse_current_page():\n",
    "    html = driver.page_source\n",
    "    return BeautifulSoup(html, \"html.parser\")"
   ]
  },
  {
   "cell_type": "code",
   "execution_count": 61,
   "id": "b4adc33a",
   "metadata": {},
   "outputs": [],
   "source": [
    "def get_my_profile_info(soupified):\n",
    "    my_name = soupified.find(\"h1\", {\"class\": \"text-heading-xlarge inline t-24 v-align-middle break-words\"}).get_text().strip()\n",
    "    my_headline = soupified.find(\"div\", {\"class\": \"text-body-medium break-words\"}).get_text().strip()\n",
    "    return (profile_counter,my_name,my_headline)"
   ]
  },
  {
   "cell_type": "code",
   "execution_count": null,
   "id": "96bc0d8b",
   "metadata": {},
   "outputs": [],
   "source": [
    "login_to_linkedin()\n",
    "soupified = parse_current_page()\n",
    "my_profile = get_my_profile_info(soupified)\n",
    "open_logfile()\n",
    "insert_to_logfile(my_profile)\n",
    "insert_linkedin_profile(my_profile)"
   ]
  },
  {
   "cell_type": "code",
   "execution_count": null,
   "id": "177010e7",
   "metadata": {
    "collapsed": true
   },
   "outputs": [],
   "source": []
  }
 ],
 "metadata": {
  "kernelspec": {
   "display_name": "Python 3",
   "language": "python",
   "name": "python3"
  },
  "language_info": {
   "codemirror_mode": {
    "name": "ipython",
    "version": 3
   },
   "file_extension": ".py",
   "mimetype": "text/x-python",
   "name": "python",
   "nbconvert_exporter": "python",
   "pygments_lexer": "ipython3",
   "version": "3.8.8"
  }
 },
 "nbformat": 4,
 "nbformat_minor": 5
}
