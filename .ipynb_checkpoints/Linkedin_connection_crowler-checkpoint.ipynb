{
 "cells": [
  {
   "cell_type": "markdown",
   "id": "5f3d498a",
   "metadata": {},
   "source": [
    "# Import Libraries"
   ]
  },
  {
   "cell_type": "code",
   "execution_count": 1,
   "id": "b4c4d454",
   "metadata": {},
   "outputs": [],
   "source": [
    "from selenium import webdriver \n",
    "from bs4 import BeautifulSoup\n",
    "from time import sleep\n",
    "import sqlite3\n",
    "from sqlite3 import Error"
   ]
  },
  {
   "cell_type": "markdown",
   "id": "2bbeba91",
   "metadata": {},
   "source": [
    "# SQLite Functions"
   ]
  },
  {
   "cell_type": "code",
   "execution_count": 2,
   "id": "53d696ae",
   "metadata": {},
   "outputs": [],
   "source": [
    "def create_connection(db_file):\n",
    "    conn = None\n",
    "    try:\n",
    "        conn = sqlite3.connect(db_file)\n",
    "        return conn\n",
    "    except Error as e:\n",
    "        print(e)"
   ]
  },
  {
   "cell_type": "code",
   "execution_count": 3,
   "id": "12f93be6",
   "metadata": {},
   "outputs": [],
   "source": [
    "def create_table(conn, create_table_sql):\n",
    "    try:\n",
    "        c = conn.cursor()\n",
    "        c.execute(create_table_sql)\n",
    "    except Error as e:\n",
    "        print(e)"
   ]
  },
  {
   "cell_type": "code",
   "execution_count": 4,
   "id": "326e2d6d",
   "metadata": {},
   "outputs": [],
   "source": [
    "def create_linkedin_profiles_table(conn):\n",
    "    sql_create_linkedin_profiles_table = \"\"\" CREATE TABLE IF NOT EXISTS linkedin_profiles (\n",
    "                                        id integer PRIMARY KEY,\n",
    "                                        name text NOT NULL,\n",
    "                                        headline text\n",
    "                                    ); \"\"\"\n",
    "    if conn is not None:\n",
    "        create_table(conn, sql_create_linkedin_profiles_table)\n",
    "\n",
    "    else:\n",
    "        print(\"Error! cannot create the database connection.\")"
   ]
  },
  {
   "cell_type": "code",
   "execution_count": 5,
   "id": "0fe522a3",
   "metadata": {},
   "outputs": [],
   "source": [
    "def insert_linkedin_profile(conn, profile):\n",
    "    sql = ''' INSERT INTO linkedin_profiles(name,headline)\n",
    "              VALUES(?,?) '''\n",
    "    cur = conn.cursor()\n",
    "    cur.execute(sql, profile)\n",
    "    conn.commit()\n",
    "    return cur.lastrowid"
   ]
  },
  {
   "cell_type": "code",
   "execution_count": 6,
   "id": "3d3f2c9c",
   "metadata": {},
   "outputs": [],
   "source": [
    "def close_connection(conn):\n",
    "    conn.close()"
   ]
  },
  {
   "cell_type": "markdown",
   "id": "1f2dbc2e",
   "metadata": {},
   "source": [
    "# Logfile"
   ]
  },
  {
   "cell_type": "code",
   "execution_count": 7,
   "id": "d658642c",
   "metadata": {},
   "outputs": [],
   "source": [
    "def open_logfile(path):\n",
    "    return open(path,'a',encoding='utf-8')\n",
    "\n",
    "def insert_to_logfile(file,profile):\n",
    "    global profile_counter\n",
    "    profile_counter += 1\n",
    "    file.write(f\"{profile_counter},\\\"{profile[0]}\\\",\\\"{profile[1]}\\\"\\n\")\n",
    "        \n",
    "def close_logfile(file):\n",
    "    file.close()"
   ]
  },
  {
   "cell_type": "markdown",
   "id": "0cd78ee2",
   "metadata": {},
   "source": [
    "# Linkedin Functions"
   ]
  },
  {
   "cell_type": "code",
   "execution_count": 8,
   "id": "7a163205",
   "metadata": {},
   "outputs": [],
   "source": [
    "def login_to_linkedin():\n",
    "    driver.get(\"https://www.linkedin.com\")\n",
    "    driver.implicitly_wait(10)\n",
    "    username = driver.find_element_by_class_name('input__input')\n",
    "    username.send_keys('hamidreza.samsami@gmail.com')\n",
    "    password = driver.find_element_by_id('session_password')\n",
    "    password.send_keys('1qaz!QAZ') \n",
    "    log_in_button = driver.find_element_by_class_name('sign-in-form__submit-button') \n",
    "    log_in_button.click()"
   ]
  },
  {
   "cell_type": "code",
   "execution_count": 9,
   "id": "3d303fbc",
   "metadata": {},
   "outputs": [],
   "source": [
    "def parse_current_page():\n",
    "    html = driver.page_source\n",
    "    return BeautifulSoup(html, \"html.parser\")"
   ]
  },
  {
   "cell_type": "code",
   "execution_count": 10,
   "id": "a72bcc9f",
   "metadata": {},
   "outputs": [],
   "source": [
    "def get_my_profile_info(soupified):\n",
    "    my_name = soupified.find(\"img\", {\"class\": \"global-nav__me-photo\"})['alt'].strip()\n",
    "    my_headline = soupified.find(\"p\", {\"class\": \"identity-headline\"}).get_text().strip()\n",
    "    return (my_name,my_headline)"
   ]
  },
  {
   "cell_type": "markdown",
   "id": "f1150865",
   "metadata": {},
   "source": [
    "# Setup "
   ]
  },
  {
   "cell_type": "code",
   "execution_count": 11,
   "id": "38453359",
   "metadata": {},
   "outputs": [],
   "source": [
    "PATH = \"C:\\\\Program Files (x86)\\\\chromedriver.exe\" \n",
    "driver = webdriver.Chrome(PATH) "
   ]
  },
  {
   "cell_type": "code",
   "execution_count": 12,
   "id": "dfcde5d1",
   "metadata": {},
   "outputs": [],
   "source": [
    "profile_counter = 0\n",
    "conn = create_connection(r\".\\pythonsqlite.db\")\n",
    "logfile_path = r'.\\linkedin.log'\n",
    "create_linkedin_profiles_table(conn)\n",
    "logfile=open_logfile(logfile_path)"
   ]
  },
  {
   "cell_type": "code",
   "execution_count": 13,
   "id": "c993c1ca",
   "metadata": {},
   "outputs": [],
   "source": [
    "login_to_linkedin()"
   ]
  },
  {
   "cell_type": "markdown",
   "id": "e5b1faae",
   "metadata": {},
   "source": [
    "# Extract and Store My Info"
   ]
  },
  {
   "cell_type": "code",
   "execution_count": 14,
   "id": "80bbe272",
   "metadata": {
    "scrolled": true
   },
   "outputs": [
    {
     "data": {
      "text/plain": [
       "1"
      ]
     },
     "execution_count": 14,
     "metadata": {},
     "output_type": "execute_result"
    }
   ],
   "source": [
    "soupified = parse_current_page()\n",
    "my_profile = get_my_profile_info(soupified)\n",
    "insert_to_logfile(logfile,my_profile)\n",
    "insert_linkedin_profile(conn,my_profile)"
   ]
  },
  {
   "cell_type": "markdown",
   "id": "a3d54f13",
   "metadata": {},
   "source": [
    "# Extract and Store My Connections info"
   ]
  },
  {
   "cell_type": "code",
   "execution_count": 15,
   "id": "2ff7c765",
   "metadata": {},
   "outputs": [
    {
     "name": "stdout",
     "output_type": "stream",
     "text": [
      "page 1 is loading ...\n",
      "page 2 is loading ...\n",
      "page 3 is loading ...\n",
      "page 4 is loading ...\n",
      "page 5 is loading ...\n",
      "page 6 is loading ...\n",
      "page 7 is loading ...\n",
      "page 8 is loading ...\n",
      "page 9 is loading ...\n",
      "page 10 is loading ...\n",
      "page 11 is loading ...\n",
      "page 12 is loading ...\n",
      "page 13 is loading ...\n",
      "page 14 is loading ...\n",
      "page 15 is loading ...\n",
      "page 16 is loading ...\n",
      "page 17 is loading ...\n",
      "page 18 is loading ...\n",
      "page 19 is loading ...\n",
      "page 20 is loading ...\n",
      "page 21 is loading ...\n",
      "page 22 is loading ...\n",
      "page 23 is loading ...\n",
      "page 24 is loading ...\n",
      "page 25 is loading ...\n",
      "page 26 is loading ...\n",
      "page 27 is loading ...\n",
      "page 28 is loading ...\n",
      "page 29 is loading ...\n",
      "page 30 is loading ...\n",
      "page 31 is loading ...\n",
      "page 32 is loading ...\n",
      "page 33 is loading ...\n",
      "page 34 is loading ...\n",
      "page 35 is loading ...\n",
      "page 36 is loading ...\n",
      "page 37 is loading ...\n",
      "page 38 is loading ...\n",
      "page 39 is loading ...\n",
      "page 40 is loading ...\n",
      "page 41 is loading ...\n",
      "page 42 is loading ...\n",
      "page 43 is loading ...\n",
      "page 44 is loading ...\n",
      "page 45 is loading ...\n",
      "page 46 is loading ...\n",
      "page 47 is loading ...\n",
      "page 48 is loading ...\n",
      "page 49 is loading ...\n",
      "page 50 is loading ...\n",
      "page 51 is loading ...\n",
      "page 52 is loading ...\n",
      "page 53 is loading ...\n",
      "page 54 is loading ...\n",
      "page 55 is loading ...\n",
      "page 56 is loading ...\n",
      "page 57 is loading ...\n",
      "page 58 is loading ...\n",
      "page 59 is loading ...\n",
      "page 60 is loading ...\n",
      "page 61 is loading ...\n",
      "page 62 is loading ...\n",
      "page 63 is loading ...\n",
      "page 64 is loading ...\n",
      "page 65 is loading ...\n",
      "page 66 is loading ...\n",
      "page 67 is loading ...\n",
      "page 68 is loading ...\n",
      "page 69 is loading ...\n",
      "page 70 is loading ...\n",
      "page 71 is loading ...\n",
      "page 72 is loading ...\n",
      "page 73 is loading ...\n",
      "page 74 is loading ...\n",
      "page 75 is loading ...\n",
      "page 76 is loading ...\n",
      "page 77 is loading ...\n",
      "page 78 is loading ...\n",
      "page 79 is loading ...\n",
      "page 80 is loading ...\n",
      "page 81 is loading ...\n",
      "page 82 is loading ...\n",
      "page 83 is loading ...\n",
      "page 84 is loading ...\n",
      "page 85 is loading ...\n",
      "page 86 is loading ...\n",
      "page 87 is loading ...\n",
      "page 88 is loading ...\n",
      "page 89 is loading ...\n",
      "page 90 is loading ...\n",
      "page 91 is loading ...\n",
      "page 92 is loading ...\n",
      "page 93 is loading ...\n",
      "page 94 is loading ...\n",
      "page 95 is loading ...\n",
      "page 96 is loading ...\n",
      "page 97 is loading ...\n",
      "page 98 is loading ...\n",
      "page 99 is loading ...\n",
      "page 100 is loading ...\n"
     ]
    }
   ],
   "source": [
    "for i in range(1,101,1):\n",
    "    sleep(1)\n",
    "    print(f\"page {i} is loading ...\")\n",
    "    driver.get(f\"https://www.linkedin.com/search/results/people/?network=%5B%22F%22%5D&origin=MEMBER_PROFILE_CANNED_SEARCH&page={i}&sid=5v*\")\n",
    "    driver.implicitly_wait(10)\n",
    "    soupified = parse_current_page()\n",
    "    connection_li_list = soupified.find_all(\"li\", {\"class\": \"reusable-search__result-container\"}) \n",
    "    for item in connection_li_list:\n",
    "        name = item.find(\"span\",{\"aria-hidden\":\"true\"}).text.strip()\n",
    "        headline = item.find(\"div\",{\"class\":\"entity-result__primary-subtitle t-14 t-black t-normal\"}).text.strip()\n",
    "        profile = (name, headline)\n",
    "        insert_to_logfile(logfile,profile)\n",
    "        insert_linkedin_profile(conn,profile)"
   ]
  },
  {
   "cell_type": "markdown",
   "id": "9c9fbaa7",
   "metadata": {},
   "source": [
    "# End Program"
   ]
  },
  {
   "cell_type": "code",
   "execution_count": 16,
   "id": "ed3dc1c7",
   "metadata": {},
   "outputs": [],
   "source": [
    "close_connection(conn)\n",
    "close_logfile(logfile)"
   ]
  },
  {
   "cell_type": "code",
   "execution_count": null,
   "id": "77b701a8",
   "metadata": {},
   "outputs": [],
   "source": []
  }
 ],
 "metadata": {
  "kernelspec": {
   "display_name": "Python 3",
   "language": "python",
   "name": "python3"
  },
  "language_info": {
   "codemirror_mode": {
    "name": "ipython",
    "version": 3
   },
   "file_extension": ".py",
   "mimetype": "text/x-python",
   "name": "python",
   "nbconvert_exporter": "python",
   "pygments_lexer": "ipython3",
   "version": "3.8.8"
  }
 },
 "nbformat": 4,
 "nbformat_minor": 5
}
