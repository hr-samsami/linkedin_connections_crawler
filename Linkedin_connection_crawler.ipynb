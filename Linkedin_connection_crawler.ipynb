{
 "cells": [
  {
   "cell_type": "markdown",
   "id": "8ff5519e",
   "metadata": {},
   "source": [
    "# Import Libraries"
   ]
  },
  {
   "cell_type": "code",
   "execution_count": 1,
   "id": "f1adf2db",
   "metadata": {},
   "outputs": [],
   "source": [
    "from selenium import webdriver \n",
    "from bs4 import BeautifulSoup\n",
    "from time import sleep\n",
    "import sqlite3\n",
    "from sqlite3 import Error"
   ]
  },
  {
   "cell_type": "markdown",
   "id": "f08332f6",
   "metadata": {},
   "source": [
    "# Setup Variables"
   ]
  },
  {
   "cell_type": "code",
   "execution_count": 2,
   "id": "85be2696",
   "metadata": {},
   "outputs": [],
   "source": [
    "profile_counter = 0\n",
    "DB_PATH = r\".\\pythonsqlite.db\"\n",
    "CHROME_DRIVER_PATH = r\"C:\\Program Files (x86)\\chromedriver.exe\" \n",
    "CONNECTIONS_LINK = \"https://www.linkedin.com/mynetwork/invite-connect/connections/\"\n",
    "LINKEDIN_LINK = \"https://www.linkedin.com\"\n",
    "LOG_PATH = r'.\\linkedin.log'\n",
    "SCROLL_PAUSE_TIME = 1\n",
    "USERNAME = 'hamidreza.samsami@gmail.com'\n",
    "PASSWORD = '$C5ysp6BTbEacK_'"
   ]
  },
  {
   "cell_type": "markdown",
   "id": "adda20c8",
   "metadata": {},
   "source": [
    "# SQLite Functions"
   ]
  },
  {
   "cell_type": "code",
   "execution_count": 3,
   "id": "803bb333",
   "metadata": {},
   "outputs": [],
   "source": [
    "def create_connection(db_file):\n",
    "    conn = None\n",
    "    try:\n",
    "        conn = sqlite3.connect(db_file)\n",
    "        return conn\n",
    "    except Error as e:\n",
    "        print(e)"
   ]
  },
  {
   "cell_type": "code",
   "execution_count": 4,
   "id": "2b560c6c",
   "metadata": {},
   "outputs": [],
   "source": [
    "def create_table(conn, create_table_sql):\n",
    "    try:\n",
    "        c = conn.cursor()\n",
    "        c.execute(create_table_sql)\n",
    "    except Error as e:\n",
    "        print(e)"
   ]
  },
  {
   "cell_type": "code",
   "execution_count": 5,
   "id": "3c28a9bd",
   "metadata": {},
   "outputs": [],
   "source": [
    "def create_linkedin_profiles_table(conn):\n",
    "    sql_create_linkedin_profiles_table = \"\"\" CREATE TABLE IF NOT EXISTS linkedin_profiles (\n",
    "                                        id integer PRIMARY KEY,\n",
    "                                        name text NOT NULL,\n",
    "                                        headline text\n",
    "                                    ); \"\"\"\n",
    "    if conn is not None:\n",
    "        create_table(conn, sql_create_linkedin_profiles_table)\n",
    "\n",
    "    else:\n",
    "        print(\"Error! cannot create the database connection.\")"
   ]
  },
  {
   "cell_type": "code",
   "execution_count": 6,
   "id": "55eb1b0d",
   "metadata": {},
   "outputs": [],
   "source": [
    "def insert_to_db(conn, profile):\n",
    "    sql = ''' INSERT INTO linkedin_profiles(name,headline)\n",
    "              VALUES(?,?) '''\n",
    "    cur = conn.cursor()\n",
    "    cur.execute(sql, profile)\n",
    "    conn.commit()\n",
    "    return cur.lastrowid"
   ]
  },
  {
   "cell_type": "code",
   "execution_count": 7,
   "id": "80172db9",
   "metadata": {},
   "outputs": [],
   "source": [
    "def close_connection(conn):\n",
    "    conn.close()"
   ]
  },
  {
   "cell_type": "markdown",
   "id": "d07f9686",
   "metadata": {},
   "source": [
    "# Logfile"
   ]
  },
  {
   "cell_type": "code",
   "execution_count": 8,
   "id": "a906fc81",
   "metadata": {},
   "outputs": [],
   "source": [
    "def open_logfile(path):\n",
    "    return open(path,'a',encoding='utf-8')\n",
    "\n",
    "def insert_to_logfile(file,profile):\n",
    "    global profile_counter\n",
    "    profile_counter += 1\n",
    "    file.write(f\"{profile_counter},\\\"{profile[0]}\\\",\\\"{profile[1]}\\\"\\n\")\n",
    "        \n",
    "def close_logfile(file):\n",
    "    file.close()"
   ]
  },
  {
   "cell_type": "markdown",
   "id": "40e3f342",
   "metadata": {},
   "source": [
    "# Chrome Functions"
   ]
  },
  {
   "cell_type": "code",
   "execution_count": 9,
   "id": "8ef2418a",
   "metadata": {
    "scrolled": true
   },
   "outputs": [],
   "source": [
    "def create_web_driver(PATH):\n",
    "    options = webdriver.ChromeOptions()\n",
    "    options.add_argument(\"--start-maximized\")\n",
    "    return webdriver.Chrome(executable_path=PATH,options=options)"
   ]
  },
  {
   "cell_type": "code",
   "execution_count": 10,
   "id": "5a807fa6",
   "metadata": {},
   "outputs": [],
   "source": [
    "def parse_current_page():\n",
    "    return BeautifulSoup(driver.page_source, \"html.parser\")"
   ]
  },
  {
   "cell_type": "code",
   "execution_count": 11,
   "id": "cf4e541f",
   "metadata": {},
   "outputs": [],
   "source": [
    "def get_scroll_height():\n",
    "    return driver.execute_script(\"return document.body.scrollHeight\")"
   ]
  },
  {
   "cell_type": "code",
   "execution_count": 12,
   "id": "ea2b7983",
   "metadata": {},
   "outputs": [],
   "source": [
    "def scroll_down():\n",
    "    driver.execute_script(\"window.scrollTo(0, document.body.scrollHeight);\")"
   ]
  },
  {
   "cell_type": "markdown",
   "id": "5c0c92b9",
   "metadata": {},
   "source": [
    "# Linkedin Functions"
   ]
  },
  {
   "cell_type": "code",
   "execution_count": 13,
   "id": "0ab32994",
   "metadata": {},
   "outputs": [],
   "source": [
    "def login_to_linkedin():\n",
    "    driver.get(LINKEDIN_LINK)\n",
    "    driver.implicitly_wait(10)\n",
    "    username = driver.find_element_by_class_name('input__input')\n",
    "    username.send_keys(USERNAME)\n",
    "    password = driver.find_element_by_id('session_password')\n",
    "    password.send_keys(PASSWORD) \n",
    "    log_in_button = driver.find_element_by_class_name('sign-in-form__submit-button') \n",
    "    log_in_button.click()"
   ]
  },
  {
   "cell_type": "code",
   "execution_count": 14,
   "id": "7e14960c",
   "metadata": {},
   "outputs": [],
   "source": [
    "def get_my_profile_info(soupified):\n",
    "    my_name = soupified.find(\"img\", {\"class\": \"global-nav__me-photo\"})['alt'].strip()\n",
    "    my_headline = soupified.find(\"p\", {\"class\": \"identity-headline\"}).get_text().strip()\n",
    "    return (my_name,my_headline)"
   ]
  },
  {
   "cell_type": "code",
   "execution_count": 15,
   "id": "43aeae89",
   "metadata": {},
   "outputs": [],
   "source": [
    "def get_connection_profile_info(item):\n",
    "    name = item.find(\"span\",{\"class\":\"mn-connection-card__name\"}).text.strip()\n",
    "    headline = item.find(\"span\",{\"class\":\"mn-connection-card__occupation\"}).text.strip()\n",
    "    return (name, headline)"
   ]
  },
  {
   "cell_type": "code",
   "execution_count": 16,
   "id": "0d1d9c99",
   "metadata": {},
   "outputs": [],
   "source": [
    "def insert_profile(profile):\n",
    "    insert_to_logfile(logfile,profile)\n",
    "    insert_to_db(conn,profile)"
   ]
  },
  {
   "cell_type": "code",
   "execution_count": 17,
   "id": "d5e7f80b",
   "metadata": {},
   "outputs": [],
   "source": [
    "def load_connections_page():\n",
    "    driver.get(CONNECTIONS_LINK)\n",
    "\n",
    "    last_height = get_scroll_height()\n",
    "    new_height = 0\n",
    "\n",
    "    while True:\n",
    "        scroll_down()\n",
    "        sleep(SCROLL_PAUSE_TIME)\n",
    "        new_height = get_scroll_height()\n",
    "\n",
    "        if new_height == last_height:\n",
    "            try:\n",
    "                driver.find_element_by_xpath(\"//*[text() = 'Show more results']\").click()\n",
    "                sleep(SCROLL_PAUSE_TIME)\n",
    "            except:\n",
    "                break\n",
    "\n",
    "        last_height = new_height"
   ]
  },
  {
   "cell_type": "markdown",
   "id": "f286f257",
   "metadata": {},
   "source": [
    "# Main Process"
   ]
  },
  {
   "cell_type": "markdown",
   "id": "05c9a35d",
   "metadata": {},
   "source": [
    "###  Prepare DB, Logfile and Web driver"
   ]
  },
  {
   "cell_type": "code",
   "execution_count": 18,
   "id": "5cf6dcb2",
   "metadata": {},
   "outputs": [],
   "source": [
    "conn = create_connection(DB_PATH)\n",
    "create_linkedin_profiles_table(conn)\n",
    "driver = create_web_driver(CHROME_DRIVER_PATH)\n",
    "logfile = open_logfile(LOG_PATH)"
   ]
  },
  {
   "cell_type": "markdown",
   "id": "acc1f050",
   "metadata": {},
   "source": [
    "###  Login"
   ]
  },
  {
   "cell_type": "code",
   "execution_count": 19,
   "id": "d2416073",
   "metadata": {},
   "outputs": [],
   "source": [
    "login_to_linkedin()"
   ]
  },
  {
   "cell_type": "markdown",
   "id": "dfb354d4",
   "metadata": {},
   "source": [
    "### Extract and Store My Info"
   ]
  },
  {
   "cell_type": "code",
   "execution_count": 20,
   "id": "9dc0c63f",
   "metadata": {
    "scrolled": true
   },
   "outputs": [],
   "source": [
    "page = parse_current_page()\n",
    "my_profile = get_my_profile_info(page)\n",
    "insert_profile(my_profile)"
   ]
  },
  {
   "cell_type": "markdown",
   "id": "a6b9ee35",
   "metadata": {},
   "source": [
    "### Extract and Store My Connections info"
   ]
  },
  {
   "cell_type": "code",
   "execution_count": 21,
   "id": "54bd969b",
   "metadata": {},
   "outputs": [],
   "source": [
    "load_connections_page()\n",
    "page = parse_current_page()\n",
    "all_connections = page.find_all(\"a\", {\"class\": \"mn-connection-card__link\"}) \n",
    "for item in all_connections:\n",
    "    profile = get_connection_profile_info(item)\n",
    "    insert_profile(profile)"
   ]
  },
  {
   "cell_type": "markdown",
   "id": "533b2225",
   "metadata": {},
   "source": [
    "# End Process"
   ]
  },
  {
   "cell_type": "code",
   "execution_count": 22,
   "id": "2ecde6a4",
   "metadata": {},
   "outputs": [],
   "source": [
    "close_connection(conn)\n",
    "close_logfile(logfile)"
   ]
  }
 ],
 "metadata": {
  "kernelspec": {
   "display_name": "Python 3",
   "language": "python",
   "name": "python3"
  },
  "language_info": {
   "codemirror_mode": {
    "name": "ipython",
    "version": 3
   },
   "file_extension": ".py",
   "mimetype": "text/x-python",
   "name": "python",
   "nbconvert_exporter": "python",
   "pygments_lexer": "ipython3",
   "version": "3.8.8"
  }
 },
 "nbformat": 4,
 "nbformat_minor": 5
}
