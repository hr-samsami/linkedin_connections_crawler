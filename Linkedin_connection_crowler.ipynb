{
 "cells": [
  {
   "cell_type": "markdown",
   "id": "2d41d86f",
   "metadata": {},
   "source": [
    "# Import Libraries"
   ]
  },
  {
   "cell_type": "code",
   "execution_count": null,
   "id": "97abf7ed",
   "metadata": {},
   "outputs": [],
   "source": [
    "from selenium import webdriver \n",
    "from bs4 import BeautifulSoup\n",
    "from time import sleep\n",
    "import sqlite3\n",
    "from sqlite3 import Error"
   ]
  },
  {
   "cell_type": "markdown",
   "id": "3c177d08",
   "metadata": {},
   "source": [
    "# SQLite Functions"
   ]
  },
  {
   "cell_type": "code",
   "execution_count": null,
   "id": "5f04fb35",
   "metadata": {},
   "outputs": [],
   "source": [
    "def create_connection(db_file):\n",
    "    conn = None\n",
    "    try:\n",
    "        conn = sqlite3.connect(db_file)\n",
    "        return conn\n",
    "    except Error as e:\n",
    "        print(e)"
   ]
  },
  {
   "cell_type": "code",
   "execution_count": null,
   "id": "e955b287",
   "metadata": {},
   "outputs": [],
   "source": [
    "def create_table(conn, create_table_sql):\n",
    "    try:\n",
    "        c = conn.cursor()\n",
    "        c.execute(create_table_sql)\n",
    "    except Error as e:\n",
    "        print(e)"
   ]
  },
  {
   "cell_type": "code",
   "execution_count": null,
   "id": "47acae6d",
   "metadata": {},
   "outputs": [],
   "source": [
    "def create_linkedin_profiles_table(conn):\n",
    "    sql_create_linkedin_profiles_table = \"\"\" CREATE TABLE IF NOT EXISTS linkedin_profiles (\n",
    "                                        id integer PRIMARY KEY,\n",
    "                                        name text NOT NULL,\n",
    "                                        headline text\n",
    "                                    ); \"\"\"\n",
    "    if conn is not None:\n",
    "        create_table(conn, sql_create_linkedin_profiles_table)\n",
    "\n",
    "    else:\n",
    "        print(\"Error! cannot create the database connection.\")"
   ]
  },
  {
   "cell_type": "code",
   "execution_count": null,
   "id": "690aab10",
   "metadata": {},
   "outputs": [],
   "source": [
    "def insert_linkedin_profile(conn, profile):\n",
    "    sql = ''' INSERT INTO linkedin_profiles(name,headline)\n",
    "              VALUES(?,?) '''\n",
    "    cur = conn.cursor()\n",
    "    cur.execute(sql, profile)\n",
    "    conn.commit()\n",
    "    return cur.lastrowid"
   ]
  },
  {
   "cell_type": "code",
   "execution_count": null,
   "id": "8bde1c7a",
   "metadata": {},
   "outputs": [],
   "source": [
    "def close_connection(conn):\n",
    "    conn.close()"
   ]
  },
  {
   "cell_type": "markdown",
   "id": "1bed6d45",
   "metadata": {},
   "source": [
    "# Logfile"
   ]
  },
  {
   "cell_type": "code",
   "execution_count": null,
   "id": "2841da45",
   "metadata": {},
   "outputs": [],
   "source": [
    "def open_logfile(path):\n",
    "    return open(path,'a',encoding='utf-8')\n",
    "\n",
    "def insert_to_logfile(file,profile):\n",
    "    global profile_counter\n",
    "    profile_counter += 1\n",
    "    file.write(f\"{profile_counter},\\\"{profile[0]}\\\",\\\"{profile[1]}\\\"\\n\")\n",
    "        \n",
    "def close_logfile(file):\n",
    "    file.close()"
   ]
  },
  {
   "cell_type": "markdown",
   "id": "439d615c",
   "metadata": {},
   "source": [
    "# Linkedin Functions"
   ]
  },
  {
   "cell_type": "code",
   "execution_count": null,
   "id": "26979846",
   "metadata": {},
   "outputs": [],
   "source": [
    "def login_to_linkedin():\n",
    "    driver.get(\"https://www.linkedin.com\")\n",
    "    driver.implicitly_wait(10)\n",
    "    username = driver.find_element_by_class_name('input__input')\n",
    "    username.send_keys('hamidreza.samsami@gmail.com')\n",
    "    password = driver.find_element_by_id('session_password')\n",
    "    password.send_keys('1qaz!QAZ') \n",
    "    log_in_button = driver.find_element_by_class_name('sign-in-form__submit-button') \n",
    "    log_in_button.click()"
   ]
  },
  {
   "cell_type": "code",
   "execution_count": null,
   "id": "ee35d94d",
   "metadata": {},
   "outputs": [],
   "source": [
    "def parse_current_page():\n",
    "    html = driver.page_source\n",
    "    return BeautifulSoup(html, \"html.parser\")"
   ]
  },
  {
   "cell_type": "code",
   "execution_count": null,
   "id": "2463986c",
   "metadata": {},
   "outputs": [],
   "source": [
    "def get_my_profile_info(soupified):\n",
    "    my_name = soupified.find(\"img\", {\"class\": \"global-nav__me-photo\"})['alt'].strip()\n",
    "    my_headline = soupified.find(\"p\", {\"class\": \"identity-headline\"}).get_text().strip()\n",
    "    return (my_name,my_headline)"
   ]
  },
  {
   "cell_type": "markdown",
   "id": "d8ebe457",
   "metadata": {},
   "source": [
    "# Setup "
   ]
  },
  {
   "cell_type": "code",
   "execution_count": null,
   "id": "1ccc7fcd",
   "metadata": {},
   "outputs": [],
   "source": [
    "PATH = \"C:\\\\Program Files (x86)\\\\chromedriver.exe\" \n",
    "driver = webdriver.Chrome(PATH) "
   ]
  },
  {
   "cell_type": "code",
   "execution_count": null,
   "id": "e340791b",
   "metadata": {},
   "outputs": [],
   "source": [
    "profile_counter = 0\n",
    "conn = create_connection(r\".\\pythonsqlite.db\")\n",
    "logfile_path = r'.\\linkedin.log'\n",
    "create_linkedin_profiles_table(conn)\n",
    "logfile=open_logfile(logfile_path)"
   ]
  },
  {
   "cell_type": "code",
   "execution_count": null,
   "id": "bdb7f139",
   "metadata": {},
   "outputs": [],
   "source": [
    "login_to_linkedin()"
   ]
  },
  {
   "cell_type": "markdown",
   "id": "5f0c60fd",
   "metadata": {},
   "source": [
    "# Extract and Store My Info"
   ]
  },
  {
   "cell_type": "code",
   "execution_count": null,
   "id": "80b67cee",
   "metadata": {
    "scrolled": true
   },
   "outputs": [],
   "source": [
    "soupified = parse_current_page()\n",
    "my_profile = get_my_profile_info(soupified)\n",
    "insert_to_logfile(logfile,my_profile)\n",
    "insert_linkedin_profile(conn,my_profile)"
   ]
  },
  {
   "cell_type": "markdown",
   "id": "c32b7d51",
   "metadata": {},
   "source": [
    "# Extract and Store My Connections info"
   ]
  },
  {
   "cell_type": "code",
   "execution_count": null,
   "id": "3100112b",
   "metadata": {},
   "outputs": [],
   "source": [
    "for i in range(1,101,1):\n",
    "    sleep(1)\n",
    "    print(f\"page {i} is loading ...\")\n",
    "    driver.get(f\"https://www.linkedin.com/search/results/people/?network=%5B%22F%22%5D&origin=MEMBER_PROFILE_CANNED_SEARCH&page={i}&sid=5v*\")\n",
    "    driver.implicitly_wait(10)\n",
    "    soupified = parse_current_page()\n",
    "    connection_li_list = soupified.find_all(\"li\", {\"class\": \"reusable-search__result-container\"}) \n",
    "    for item in connection_li_list:\n",
    "        name = item.find(\"span\",{\"aria-hidden\":\"true\"}).text.strip()\n",
    "        headline = item.find(\"div\",{\"class\":\"entity-result__primary-subtitle t-14 t-black t-normal\"}).text.strip()\n",
    "        profile = (name, headline)\n",
    "        insert_to_logfile(logfile,profile)\n",
    "        insert_linkedin_profile(conn,profile)"
   ]
  },
  {
   "cell_type": "markdown",
   "id": "875bf18b",
   "metadata": {},
   "source": [
    "# End Program"
   ]
  },
  {
   "cell_type": "code",
   "execution_count": null,
   "id": "125ccbb0",
   "metadata": {},
   "outputs": [],
   "source": [
    "close_connection(conn)\n",
    "close_logfile(logfile)"
   ]
  },
  {
   "cell_type": "code",
   "execution_count": null,
   "id": "04e0a9e5",
   "metadata": {},
   "outputs": [],
   "source": []
  }
 ],
 "metadata": {
  "kernelspec": {
   "display_name": "Python 3",
   "language": "python",
   "name": "python3"
  },
  "language_info": {
   "codemirror_mode": {
    "name": "ipython",
    "version": 3
   },
   "file_extension": ".py",
   "mimetype": "text/x-python",
   "name": "python",
   "nbconvert_exporter": "python",
   "pygments_lexer": "ipython3",
   "version": "3.8.8"
  }
 },
 "nbformat": 4,
 "nbformat_minor": 5
}
