{
 "cells": [
  {
   "cell_type": "markdown",
   "id": "771fd27c",
   "metadata": {},
   "source": [
    "# Import Libraries"
   ]
  },
  {
   "cell_type": "code",
   "execution_count": 2,
   "id": "bfa96edf",
   "metadata": {},
   "outputs": [],
   "source": [
    "from selenium import webdriver \n",
    "from bs4 import BeautifulSoup\n",
    "from time import sleep\n",
    "import sqlite3\n",
    "from sqlite3 import Error"
   ]
  },
  {
   "cell_type": "markdown",
   "id": "cfdedf04",
   "metadata": {},
   "source": [
    "# SQLite Functions"
   ]
  },
  {
   "cell_type": "code",
   "execution_count": 3,
   "id": "96a9a855",
   "metadata": {},
   "outputs": [],
   "source": [
    "def create_connection(db_file):\n",
    "    conn = None\n",
    "    try:\n",
    "        conn = sqlite3.connect(db_file)\n",
    "        return conn\n",
    "    except Error as e:\n",
    "        print(e)"
   ]
  },
  {
   "cell_type": "code",
   "execution_count": 4,
   "id": "c9522699",
   "metadata": {},
   "outputs": [],
   "source": [
    "def create_table(conn, create_table_sql):\n",
    "    try:\n",
    "        c = conn.cursor()\n",
    "        c.execute(create_table_sql)\n",
    "    except Error as e:\n",
    "        print(e)"
   ]
  },
  {
   "cell_type": "code",
   "execution_count": 5,
   "id": "470c92ef",
   "metadata": {},
   "outputs": [],
   "source": [
    "def create_linkedin_profiles_table(conn):\n",
    "    sql_create_linkedin_profiles_table = \"\"\" CREATE TABLE IF NOT EXISTS linkedin_profiles (\n",
    "                                        id integer PRIMARY KEY,\n",
    "                                        name text NOT NULL,\n",
    "                                        headline text\n",
    "                                    ); \"\"\"\n",
    "    if conn is not None:\n",
    "        create_table(conn, sql_create_linkedin_profiles_table)\n",
    "\n",
    "    else:\n",
    "        print(\"Error! cannot create the database connection.\")"
   ]
  },
  {
   "cell_type": "code",
   "execution_count": 11,
   "id": "9901bc39",
   "metadata": {},
   "outputs": [],
   "source": [
    "def insert_linkedin_profile(conn, profile):\n",
    "    sql = ''' INSERT INTO linkedin_profiles(name,headline)\n",
    "              VALUES(?,?) '''\n",
    "    cur = conn.cursor()\n",
    "    cur.execute(sql, profile)\n",
    "    conn.commit()\n",
    "    return cur.lastrowid"
   ]
  },
  {
   "cell_type": "code",
   "execution_count": 12,
   "id": "dfef73ec",
   "metadata": {},
   "outputs": [],
   "source": [
    "def close_connection(conn):\n",
    "    conn.close()"
   ]
  },
  {
   "cell_type": "markdown",
   "id": "e31770ed",
   "metadata": {},
   "source": [
    "# Set Settings And Variables"
   ]
  },
  {
   "cell_type": "code",
   "execution_count": 13,
   "id": "a3399cb0",
   "metadata": {},
   "outputs": [],
   "source": [
    "PATH = \"C:\\\\Program Files (x86)\\\\chromedriver.exe\" \n",
    "driver = webdriver.Chrome(PATH) \n",
    "profile_counter = 1\n",
    "conn = create_connection(r\"C:\\Users\\root\\Desktop\\pythonsqlite.db\")\n",
    "create_linkedin_profiles_table(conn)"
   ]
  },
  {
   "cell_type": "markdown",
   "id": "8229cf99",
   "metadata": {},
   "source": [
    "# Logfile"
   ]
  },
  {
   "cell_type": "code",
   "execution_count": 14,
   "id": "94a2e648",
   "metadata": {},
   "outputs": [],
   "source": [
    "def open_logfile(path):\n",
    "    return open(path,'a',encoding='utf-8')\n",
    "\n",
    "def insert_to_logfile(file,id,profile):\n",
    "    file.write(f\"{id},\\\"{profile[0]}\\\",\\\"{profile[1]}\\\"\\n\")\n",
    "        \n",
    "def close_logfile(file):\n",
    "    file.close()"
   ]
  },
  {
   "cell_type": "code",
   "execution_count": null,
   "id": "f1202318",
   "metadata": {},
   "outputs": [],
   "source": []
  }
 ],
 "metadata": {
  "kernelspec": {
   "display_name": "Python 3",
   "language": "python",
   "name": "python3"
  },
  "language_info": {
   "codemirror_mode": {
    "name": "ipython",
    "version": 3
   },
   "file_extension": ".py",
   "mimetype": "text/x-python",
   "name": "python",
   "nbconvert_exporter": "python",
   "pygments_lexer": "ipython3",
   "version": "3.8.8"
  }
 },
 "nbformat": 4,
 "nbformat_minor": 5
}
