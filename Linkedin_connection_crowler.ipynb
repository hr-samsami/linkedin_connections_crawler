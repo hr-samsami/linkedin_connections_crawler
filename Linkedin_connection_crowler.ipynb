{
 "cells": [
  {
   "cell_type": "markdown",
   "id": "ecd50f34",
   "metadata": {},
   "source": [
    "# Import Libraries"
   ]
  },
  {
   "cell_type": "code",
   "execution_count": 1,
   "id": "54112952",
   "metadata": {},
   "outputs": [],
   "source": [
    "from selenium import webdriver \n",
    "from bs4 import BeautifulSoup\n",
    "from time import sleep\n",
    "import sqlite3\n",
    "from sqlite3 import Error"
   ]
  },
  {
   "cell_type": "markdown",
   "id": "e738f568",
   "metadata": {},
   "source": [
    "# SQLite Functions"
   ]
  },
  {
   "cell_type": "code",
   "execution_count": 2,
   "id": "28f017eb",
   "metadata": {},
   "outputs": [],
   "source": [
    "def create_connection(db_file):\n",
    "    conn = None\n",
    "    try:\n",
    "        conn = sqlite3.connect(db_file)\n",
    "        return conn\n",
    "    except Error as e:\n",
    "        print(e)"
   ]
  },
  {
   "cell_type": "code",
   "execution_count": 3,
   "id": "71899abe",
   "metadata": {},
   "outputs": [],
   "source": [
    "def create_table(conn, create_table_sql):\n",
    "    try:\n",
    "        c = conn.cursor()\n",
    "        c.execute(create_table_sql)\n",
    "    except Error as e:\n",
    "        print(e)"
   ]
  },
  {
   "cell_type": "code",
   "execution_count": 4,
   "id": "091686ab",
   "metadata": {},
   "outputs": [],
   "source": [
    "def create_linkedin_profiles_table(conn):\n",
    "    sql_create_linkedin_profiles_table = \"\"\" CREATE TABLE IF NOT EXISTS linkedin_profiles (\n",
    "                                        id integer PRIMARY KEY,\n",
    "                                        name text NOT NULL,\n",
    "                                        headline text\n",
    "                                    ); \"\"\"\n",
    "    if conn is not None:\n",
    "        create_table(conn, sql_create_linkedin_profiles_table)\n",
    "\n",
    "    else:\n",
    "        print(\"Error! cannot create the database connection.\")"
   ]
  },
  {
   "cell_type": "code",
   "execution_count": 5,
   "id": "39d45bfa",
   "metadata": {},
   "outputs": [],
   "source": [
    "def insert_linkedin_profile(conn, profile):\n",
    "    sql = ''' INSERT INTO linkedin_profiles(name,headline)\n",
    "              VALUES(?,?) '''\n",
    "    cur = conn.cursor()\n",
    "    cur.execute(sql, profile)\n",
    "    conn.commit()\n",
    "    return cur.lastrowid"
   ]
  },
  {
   "cell_type": "code",
   "execution_count": 6,
   "id": "84e23989",
   "metadata": {},
   "outputs": [],
   "source": [
    "def close_connection(conn):\n",
    "    conn.close()"
   ]
  },
  {
   "cell_type": "markdown",
   "id": "a9db581b",
   "metadata": {},
   "source": [
    "# Set Settings And Variables"
   ]
  },
  {
   "cell_type": "code",
   "execution_count": null,
   "id": "6b19d6f0",
   "metadata": {},
   "outputs": [],
   "source": [
    "PATH = \"C:\\\\Program Files (x86)\\\\chromedriver.exe\" \n",
    "driver = webdriver.Chrome(PATH) "
   ]
  },
  {
   "cell_type": "code",
   "execution_count": 19,
   "id": "a3e0e935",
   "metadata": {},
   "outputs": [],
   "source": [
    "profile_counter = 0\n",
    "conn = create_connection(r\"C:\\Users\\root\\Desktop\\pythonsqlite.db\")\n",
    "logfile_path = r'C:\\Users\\root\\Desktop\\linkedin.log'\n",
    "create_linkedin_profiles_table(conn)"
   ]
  },
  {
   "cell_type": "markdown",
   "id": "9daa9ffe",
   "metadata": {},
   "source": [
    "# Logfile"
   ]
  },
  {
   "cell_type": "code",
   "execution_count": 8,
   "id": "86d50400",
   "metadata": {},
   "outputs": [],
   "source": [
    "def open_logfile(path):\n",
    "    return open(path,'a',encoding='utf-8')\n",
    "\n",
    "def insert_to_logfile(file,profile):\n",
    "    global profile_counter\n",
    "    profile_counter += 1\n",
    "    file.write(f\"{profile_counter},\\\"{profile[0]}\\\",\\\"{profile[1]}\\\"\\n\")\n",
    "        \n",
    "def close_logfile(file):\n",
    "    file.close()"
   ]
  },
  {
   "cell_type": "markdown",
   "id": "6998b70f",
   "metadata": {},
   "source": [
    "# Linkedin Functions"
   ]
  },
  {
   "cell_type": "code",
   "execution_count": 9,
   "id": "e4040916",
   "metadata": {},
   "outputs": [],
   "source": [
    "def login_to_linkedin():\n",
    "    driver.get(\"https://www.linkedin.com\")\n",
    "    driver.implicitly_wait(10)\n",
    "    username = driver.find_element_by_class_name('input__input')\n",
    "    username.send_keys('hamidreza.samsami@gmail.com')\n",
    "    password = driver.find_element_by_id('session_password')\n",
    "    password.send_keys('1qaz!QAZ') \n",
    "    log_in_button = driver.find_element_by_class_name('sign-in-form__submit-button') \n",
    "    log_in_button.click()"
   ]
  },
  {
   "cell_type": "code",
   "execution_count": 10,
   "id": "a1de8e3e",
   "metadata": {},
   "outputs": [],
   "source": [
    "def parse_current_page():\n",
    "    html = driver.page_source\n",
    "    return BeautifulSoup(html, \"html.parser\")"
   ]
  },
  {
   "cell_type": "code",
   "execution_count": 11,
   "id": "ad2e2f5c",
   "metadata": {},
   "outputs": [],
   "source": [
    "def get_my_profile_info(soupified):\n",
    "    my_name = soupified.find(\"img\", {\"class\": \"global-nav__me-photo\"})['alt'].strip()\n",
    "    my_headline = soupified.find(\"p\", {\"class\": \"identity-headline\"}).get_text().strip()\n",
    "    return (my_name,my_headline)"
   ]
  },
  {
   "cell_type": "code",
   "execution_count": 12,
   "id": "31c4a2ec",
   "metadata": {},
   "outputs": [],
   "source": [
    "login_to_linkedin()"
   ]
  },
  {
   "cell_type": "code",
   "execution_count": 20,
   "id": "65f74624",
   "metadata": {
    "scrolled": true
   },
   "outputs": [
    {
     "data": {
      "text/plain": [
       "1"
      ]
     },
     "execution_count": 20,
     "metadata": {},
     "output_type": "execute_result"
    }
   ],
   "source": [
    "soupified = parse_current_page()\n",
    "my_profile = get_my_profile_info(soupified)\n",
    "logfile=open_logfile(logfile_path)\n",
    "insert_to_logfile(logfile,my_profile)\n",
    "insert_linkedin_profile(conn,my_profile)"
   ]
  },
  {
   "cell_type": "code",
   "execution_count": 21,
   "id": "7672fc0a",
   "metadata": {},
   "outputs": [],
   "source": [
    "close_connection(conn)\n",
    "close_logfile(logfile)"
   ]
  },
  {
   "cell_type": "code",
   "execution_count": null,
   "id": "14c88c33",
   "metadata": {},
   "outputs": [],
   "source": []
  }
 ],
 "metadata": {
  "kernelspec": {
   "display_name": "Python 3",
   "language": "python",
   "name": "python3"
  },
  "language_info": {
   "codemirror_mode": {
    "name": "ipython",
    "version": 3
   },
   "file_extension": ".py",
   "mimetype": "text/x-python",
   "name": "python",
   "nbconvert_exporter": "python",
   "pygments_lexer": "ipython3",
   "version": "3.8.8"
  }
 },
 "nbformat": 4,
 "nbformat_minor": 5
}
