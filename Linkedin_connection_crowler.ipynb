{
 "cells": [
  {
   "cell_type": "markdown",
   "id": "68e5e53a",
   "metadata": {},
   "source": [
    "# Import Libraries"
   ]
  },
  {
   "cell_type": "code",
   "execution_count": 16,
   "id": "dd3dceef",
   "metadata": {},
   "outputs": [],
   "source": [
    "from selenium import webdriver \n",
    "from bs4 import BeautifulSoup\n",
    "from time import sleep\n",
    "import sqlite3\n",
    "from sqlite3 import Error"
   ]
  },
  {
   "cell_type": "markdown",
   "id": "33e69dcf",
   "metadata": {},
   "source": [
    "# SQLite Functions"
   ]
  },
  {
   "cell_type": "code",
   "execution_count": 17,
   "id": "4fde315e",
   "metadata": {},
   "outputs": [],
   "source": [
    "def create_connection(db_file):\n",
    "    conn = None\n",
    "    try:\n",
    "        conn = sqlite3.connect(db_file)\n",
    "        return conn\n",
    "    except Error as e:\n",
    "        print(e)"
   ]
  },
  {
   "cell_type": "code",
   "execution_count": 18,
   "id": "fc7c45ba",
   "metadata": {},
   "outputs": [],
   "source": [
    "def create_table(conn, create_table_sql):\n",
    "    try:\n",
    "        c = conn.cursor()\n",
    "        c.execute(create_table_sql)\n",
    "    except Error as e:\n",
    "        print(e)"
   ]
  },
  {
   "cell_type": "code",
   "execution_count": 19,
   "id": "de0fb88b",
   "metadata": {},
   "outputs": [],
   "source": [
    "def create_linkedin_profiles_table(conn):\n",
    "    sql_create_linkedin_profiles_table = \"\"\" CREATE TABLE IF NOT EXISTS linkedin_profiles (\n",
    "                                        id integer PRIMARY KEY,\n",
    "                                        name text NOT NULL,\n",
    "                                        headline text\n",
    "                                    ); \"\"\"\n",
    "    if conn is not None:\n",
    "        create_table(conn, sql_create_linkedin_profiles_table)\n",
    "\n",
    "    else:\n",
    "        print(\"Error! cannot create the database connection.\")"
   ]
  },
  {
   "cell_type": "code",
   "execution_count": 20,
   "id": "9a6c616a",
   "metadata": {},
   "outputs": [],
   "source": [
    "def insert_linkedin_profile(conn, profile):\n",
    "    sql = ''' INSERT INTO linkedin_profiles(name,headline)\n",
    "              VALUES(?,?) '''\n",
    "    cur = conn.cursor()\n",
    "    cur.execute(sql, profile)\n",
    "    conn.commit()\n",
    "    return cur.lastrowid"
   ]
  },
  {
   "cell_type": "code",
   "execution_count": 21,
   "id": "4914eac4",
   "metadata": {},
   "outputs": [],
   "source": [
    "def close_connection(conn):\n",
    "    conn.close()"
   ]
  },
  {
   "cell_type": "markdown",
   "id": "4df29b37",
   "metadata": {},
   "source": [
    "# Set Settings And Variables"
   ]
  },
  {
   "cell_type": "code",
   "execution_count": 31,
   "id": "412be17c",
   "metadata": {},
   "outputs": [],
   "source": [
    "PATH = \"C:\\\\Program Files (x86)\\\\chromedriver.exe\" \n",
    "driver = webdriver.Chrome(PATH) \n",
    "profile_counter = 1\n",
    "conn = create_connection(r\"C:\\Users\\root\\Desktop\\pythonsqlite.db\")\n",
    "create_linkedin_profiles_table(conn)"
   ]
  },
  {
   "cell_type": "markdown",
   "id": "81ce991f",
   "metadata": {},
   "source": [
    "# Logfile"
   ]
  },
  {
   "cell_type": "code",
   "execution_count": 23,
   "id": "ccd0b3ae",
   "metadata": {},
   "outputs": [],
   "source": [
    "def open_logfile(path):\n",
    "    return open(path,'a',encoding='utf-8')\n",
    "\n",
    "def insert_to_logfile(file,id,profile):\n",
    "    file.write(f\"{id},\\\"{profile[0]}\\\",\\\"{profile[1]}\\\"\\n\")\n",
    "        \n",
    "def close_logfile(file):\n",
    "    file.close()"
   ]
  },
  {
   "cell_type": "markdown",
   "id": "9a820ff9",
   "metadata": {},
   "source": [
    "# Linkedin Functions"
   ]
  },
  {
   "cell_type": "code",
   "execution_count": 36,
   "id": "375d5ff1",
   "metadata": {},
   "outputs": [],
   "source": [
    "def login_to_linkedin():\n",
    "    driver.get(\"https://www.linkedin.com\")\n",
    "    driver.implicitly_wait(10)\n",
    "    username = driver.find_element_by_class_name('input__input')\n",
    "    username.send_keys('hamidreza.samsami@gmail.com')\n",
    "    password = driver.find_element_by_id('session_password')\n",
    "    password.send_keys('1qaz!QAZ') \n",
    "    log_in_button = driver.find_element_by_class_name('sign-in-form__submit-button') \n",
    "    log_in_button.click()"
   ]
  },
  {
   "cell_type": "code",
   "execution_count": null,
   "id": "50a187ef",
   "metadata": {},
   "outputs": [],
   "source": []
  }
 ],
 "metadata": {
  "kernelspec": {
   "display_name": "Python 3",
   "language": "python",
   "name": "python3"
  },
  "language_info": {
   "codemirror_mode": {
    "name": "ipython",
    "version": 3
   },
   "file_extension": ".py",
   "mimetype": "text/x-python",
   "name": "python",
   "nbconvert_exporter": "python",
   "pygments_lexer": "ipython3",
   "version": "3.8.8"
  }
 },
 "nbformat": 4,
 "nbformat_minor": 5
}
